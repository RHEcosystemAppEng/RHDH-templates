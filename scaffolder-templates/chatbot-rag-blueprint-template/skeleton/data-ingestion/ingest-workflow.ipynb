{
 "cells": [
  {
   "cell_type": "markdown",
   "id": "59bfe165",
   "metadata": {},
   "source": [
    "# Notebook to use RAGDocument and LlamaStackClient to store documents in PGVector"
   ]
  },
  {
   "cell_type": "code",
   "execution_count": null,
   "id": "dfaf2364-f318-4763-a5af-f0277f334d68",
   "metadata": {},
   "outputs": [
    {
     "name": "stdout",
     "output_type": "stream",
     "text": [
      "Requirement already satisfied: pip in /opt/app-root/lib64/python3.11/site-packages (25.0.1)\n"
     ]
    }
   ],
   "source": [
    "!pip install --upgrade pip\n",
    "!pip install boto3 pandas\n",
    "!pip install docstring-parser==0.7.3 kfp-pipeline-spec==0.6.0 kfp-server-api==2.1.0 kubernetes==8.0.0 protobuf==4.21.1 requests-toolbelt==0.8.0\n",
    "!pip install llama-stack\n",
    "!pip install sentence-transformers\n",
    "!pip install llama-stack-client==0.1.9\n",
    "!pip install huggingface_hub==0.14.1\n",
    "!pip install numpy\n",
    "!pip install pdfplumber\n"
   ]
  },
  {
   "cell_type": "markdown",
   "id": "d3fce794-07aa-406f-ac77-343747fe6de5",
   "metadata": {},
   "source": [
    "### Fetch from minIO"
   ]
  },
  {
   "cell_type": "code",
   "execution_count": 187,
   "id": "1dacf488-7fe9-4210-a1e9-e9c5f154c38e",
   "metadata": {},
   "outputs": [],
   "source": [
    "from kfp.dsl import component, InputPath, OutputPath\n",
    "from kfp.v2 import compiler\n",
    "\n",
    "@component(\n",
    "    base_image=\"python:3.10\",\n",
    "    packages_to_install=[\"boto3\", \"pandas\", \"llama-stack\", \"httpx\", \"numpy\", \"psycopg2\", \"llama-stack-client==0.1.9\"]\n",
    ")\n",
    "def fetch_from_minio(\n",
    "    bucket_name: str,\n",
    "    file_key: str,\n",
    "    minio_endpoint: str,\n",
    "    minio_access_key: str,\n",
    "    minio_secret_key: str,\n",
    "    output_file: OutputPath()\n",
    "):\n",
    "    import boto3\n",
    "    import os\n",
    "\n",
    "    s3 = boto3.client(\n",
    "        \"s3\",\n",
    "        endpoint_url=minio_endpoint,\n",
    "        aws_access_key_id=minio_access_key,\n",
    "        aws_secret_access_key=minio_secret_key\n",
    "    )\n",
    "\n",
    "    os.makedirs(os.path.dirname(output_file), exist_ok=True)\n",
    "    s3.download_file(bucket_name, file_key, output_file)\n",
    "    print(f\"File downloaded to: {output_file}\")\n"
   ]
  },
  {
   "cell_type": "markdown",
   "id": "b9ec5cce",
   "metadata": {},
   "source": [
    "### Chunk and Store Embeddings in PGVector"
   ]
  },
  {
   "cell_type": "code",
   "execution_count": null,
   "id": "866e9a27-6fd5-4746-838a-17d6d8d04414",
   "metadata": {},
   "outputs": [],
   "source": [
    "from kfp.dsl import component, InputPath, OutputPath\n",
    "import json\n",
    "import pandas as pd\n",
    "import os\n",
    "from llama_stack_client import LlamaStackClient\n",
    "from llama_stack.apis.vector_dbs import VectorDB\n",
    "from llama_stack.apis.vector_io import Chunk"
   ]
  },
  {
   "cell_type": "code",
   "execution_count": null,
   "id": "b9e794b5-e462-4bc4-b2a2-9173528b5f85",
   "metadata": {},
   "outputs": [],
   "source": [
    "@component(\n",
    "    base_image=\"python:3.10\",\n",
    "    packages_to_install=[\"pdfplumber\", \"numpy\", \"pymupdf\", \"llama-stack-client==0.1.9\", \"pandas\", \"llama-stack\", \"httpx\", \"numpy\", \"psycopg2\", \"sentence-transformers\", \"huggingface_hub==0.14.1\"]\n",
    ")\n",
    "def chunk_embed_and_store(\n",
    "    input_file: InputPath(),\n",
    "):\n",
    "    from llama_stack_client import LlamaStackClient\n",
    "    from llama_stack_client import Agent, AgentEventLogger, RAGDocument\n",
    "    import pandas as pd\n",
    "    from sentence_transformers import SentenceTransformer\n",
    "    import json\n",
    "    import os\n",
    "    from sentence_transformers import SentenceTransformer\n",
    "    import pdfplumber\n",
    "    import numpy as np\n",
    "    \n",
    "    print(f\"Reading PDF from: {input_file}\")\n",
    "    full_text = \"\"\n",
    "    \n",
    "    with pdfplumber.open(input_file) as pdf:\n",
    "        for page in pdf.pages:\n",
    "            page_text = page.extract_text()\n",
    "            if page_text:\n",
    "                full_text += page_text\n",
    "\n",
    "    # Cleaning data\n",
    "    full_text = full_text.encode('utf-8', 'ignore').decode('utf-8')\n",
    "    full_text = full_text.replace('\\x00', '')\n",
    "    \n",
    "    if not full_text.strip():\n",
    "        raise ValueError(\"No text could be extracted from the PDF.\")\n",
    "\n",
    "\n",
    "    rng = np.random.default_rng()\n",
    "    random_id = rng.integers(1000, 9999)\n",
    "    \n",
    "    document = RAGDocument(\n",
    "        document_id=f\"pdf-{random_id}-1\",\n",
    "        content=full_text,\n",
    "        mime_type=\"application/pdf\",\n",
    "        metadata={\"source\": \"rag-pipeline\", \"filename\": os.path.basename(input_file)},\n",
    "    )\n",
    "\n",
    "\n",
    "    client = LlamaStackClient(base_url=\"http://llamastack.llama-stack-rag-2.svc.cluster.local:8321\")\n",
    "\n",
    "    vector_db_id = \"my_documents_db_1\"\n",
    "\n",
    "    response = client.vector_dbs.register(\n",
    "        vector_db_id=\"my_documents_db_1\",\n",
    "        embedding_model=\"all-MiniLM-L6-v2\",\n",
    "        embedding_dimension=384,\n",
    "        provider_id=\"pgvector\",\n",
    "    )\n",
    "    print(f\"Vector database registered: {response}\")\n",
    "    \n",
    "    print(\"Inserting document using rag_tool...\")\n",
    "    client.tool_runtime.rag_tool.insert(\n",
    "        documents=[document],\n",
    "        vector_db_id=\"my_documents_db_1\",\n",
    "        chunk_size_in_tokens=512,\n",
    "    )\n",
    "    print(\"Document inserted successfully using RAGDocument.\")\n"
   ]
  },
  {
   "cell_type": "markdown",
   "id": "afcde705-c409-4a71-a008-2a07c0ae2623",
   "metadata": {},
   "source": [
    "### Pipeline"
   ]
  },
  {
   "cell_type": "code",
   "execution_count": null,
   "id": "4096783f-a32d-4231-8d1f-b3e51f6afe74",
   "metadata": {},
   "outputs": [],
   "source": [
    "from kfp.dsl import pipeline\n",
    "from kfp.v2 import compiler\n",
    "\n",
    "@pipeline(name=\"pipeline-fetch-chunk-embed-store-vector-db\")\n",
    "def full_pipeline():\n",
    "    fetch_step = fetch_from_minio(\n",
    "        bucket_name=\"llama\",\n",
    "        file_key=\"abc.pdf\",\n",
    "        minio_endpoint=\"<mino-api-url>\",\n",
    "        minio_access_key=\"<minio_username>\",\n",
    "        minio_secret_key=\"<minio_password>\"\n",
    "    )\n",
    "\n",
    "    chunk_and_embed_step = chunk_embed_and_store(\n",
    "        input_file=fetch_step.outputs[\"output_file\"]\n",
    "    )\n"
   ]
  },
  {
   "cell_type": "code",
   "execution_count": null,
   "id": "0e5a68fd-c0ac-49e2-b5b8-7322fe3e07f6",
   "metadata": {},
   "outputs": [],
   "source": [
    "compiler.Compiler().compile(\n",
    "    pipeline_func=full_pipeline,\n",
    "    package_path=\"fetch_chunk_embed_pipeline.yaml\"\n",
    ")"
   ]
  }
 ],
 "metadata": {
  "kernelspec": {
   "display_name": "Python 3.11",
   "language": "python",
   "name": "python3"
  },
  "language_info": {
   "codemirror_mode": {
    "name": "ipython",
    "version": 3
   },
   "file_extension": ".py",
   "mimetype": "text/x-python",
   "name": "python",
   "nbconvert_exporter": "python",
   "pygments_lexer": "ipython3",
   "version": "3.11.7"
  }
 },
 "nbformat": 4,
 "nbformat_minor": 5
}
