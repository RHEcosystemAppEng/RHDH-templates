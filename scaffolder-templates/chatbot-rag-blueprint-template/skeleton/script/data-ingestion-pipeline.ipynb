{
 "cells": [
  {
   "cell_type": "code",
   "execution_count": null,
   "id": "45265ac6",
   "metadata": {},
   "outputs": [],
   "source": [
    "!pip install --upgrade pip\n",
    "!pip install boto3 pandas\n",
    "!pip install docstring-parser==0.7.3 kfp-pipeline-spec==0.6.0 kfp-server-api==2.1.0 kubernetes==8.0.0 protobuf==4.21.1 requests-toolbelt==0.8.0\n",
    "!pip install llama-stack\n",
    "!pip install sentence-transformers\n",
    "!pip install llama-stack-client==0.1.9\n",
    "!pip install huggingface_hub==0.14.1\n",
    "!pip install pymupdf\n",
    "!pip install numpy\n",
    "!pip install pdfplumber"
   ]
  },
  {
   "cell_type": "markdown",
   "id": "d3fce794-07aa-406f-ac77-343747fe6de5",
   "metadata": {},
   "source": [
    "## Fetch from minIO"
   ]
  },
  {
   "cell_type": "code",
   "execution_count": null,
   "id": "1dacf488-7fe9-4210-a1e9-e9c5f154c38e",
   "metadata": {},
   "outputs": [
    {
     "data": {
      "text/html": [
       "<a href=\"https://ds-pipeline-dspa.llama-stack-rag-2.svc.cluster.local:8888/#/pipelines/details/94964c23-6176-4c5a-bcd6-fef1209fbb85\" target=\"_blank\" >Pipeline details</a>."
      ],
      "text/plain": [
       "<IPython.core.display.HTML object>"
      ]
     },
     "metadata": {},
     "output_type": "display_data"
    },
    {
     "data": {
      "text/html": [
       "<a href=\"https://ds-pipeline-dspa.llama-stack-rag-2.svc.cluster.local:8888/#/experiments/details/4aa20837-a570-4965-894b-a143a7420fce\" target=\"_blank\" >Experiment details</a>."
      ],
      "text/plain": [
       "<IPython.core.display.HTML object>"
      ]
     },
     "metadata": {},
     "output_type": "display_data"
    },
    {
     "data": {
      "text/html": [
       "<a href=\"https://ds-pipeline-dspa.llama-stack-rag-2.svc.cluster.local:8888/#/runs/details/751e0d06-cd93-4e71-99e0-1ea3d04cda09\" target=\"_blank\" >Run details</a>."
      ],
      "text/plain": [
       "<IPython.core.display.HTML object>"
      ]
     },
     "metadata": {},
     "output_type": "display_data"
    },
    {
     "name": "stdout",
     "output_type": "stream",
     "text": [
      "Pipeline submitted! Run ID: 751e0d06-cd93-4e71-99e0-1ea3d04cda09\n"
     ]
    }
   ],
   "source": [
    "from kfp.dsl import component, pipeline\n",
    "from kfp.v2 import compiler\n",
    "from kfp import Client\n",
    "from kfp.v2 import compiler\n",
    "from kfp.dsl import pipeline\n",
    "\n",
    "@component(\n",
    "    base_image=\"python:3.10\",\n",
    "    packages_to_install=[\n",
    "        \"boto3\",\n",
    "        \"langchain-community\",\n",
    "        \"pdfminer.six\",\n",
    "        \"pymupdf\",\n",
    "        \"pypdf\",\n",
    "        \"tqdm\",\n",
    "        \"sentence-transformers\",\n",
    "        \"huggingface-hub\",\n",
    "        \"llama-stack-client==0.1.9\",\n",
    "        \"numpy\",\n",
    "        \"pdfplumber\"\n",
    "    ])\n",
    "def fetch_from_minio_store_pgvector(bucket_name: str, minio_endpoint: str, minio_access_key: str, minio_secret_key: str, llamastack_base_url: str):\n",
    "    import os\n",
    "    import boto3\n",
    "    import tempfile\n",
    "    import numpy as np\n",
    "    import pdfplumber\n",
    "    from llama_stack_client import LlamaStackClient, RAGDocument\n",
    "\n",
    "    temp_dir = tempfile.mkdtemp()\n",
    "    download_dir = os.path.join(temp_dir, \"source_repo\")\n",
    "    os.makedirs(download_dir, exist_ok=True)\n",
    "\n",
    "    s3 = boto3.client(\n",
    "        \"s3\",\n",
    "        endpoint_url=minio_endpoint,\n",
    "        aws_access_key_id=minio_access_key,\n",
    "        aws_secret_access_key=minio_secret_key\n",
    "    )\n",
    "\n",
    "    paginator = s3.get_paginator(\"list_objects_v2\")\n",
    "    pages = paginator.paginate(Bucket=bucket_name)\n",
    "\n",
    "    for page in pages:\n",
    "        for obj in page.get(\"Contents\", []):\n",
    "            key = obj[\"Key\"]\n",
    "            file_path = os.path.join(download_dir, os.path.basename(key))\n",
    "            s3.download_file(bucket_name, key, file_path)\n",
    "\n",
    "    rag_documents = []\n",
    "    rng = np.random.default_rng()\n",
    "    for filename in os.listdir(download_dir):\n",
    "        if not filename.endswith(\".pdf\"):\n",
    "            continue\n",
    "        full_path = os.path.join(download_dir, filename)\n",
    "        full_text = \"\"\n",
    "        with pdfplumber.open(full_path) as pdf:\n",
    "            for page in pdf.pages:\n",
    "                page_text = page.extract_text()\n",
    "                if page_text:\n",
    "                    full_text += page_text\n",
    "        full_text = full_text.encode(\"utf-8\", \"ignore\").decode(\"utf-8\").replace(\"\\x00\", \"\")\n",
    "        if not full_text.strip():\n",
    "            continue\n",
    "        rag_documents.append(\n",
    "            RAGDocument(\n",
    "                document_id=f\"pdf-{rng.integers(1000, 9999)}\",\n",
    "                content=full_text,\n",
    "                mime_type=\"application/pdf\",\n",
    "                metadata={\"source\": \"rag-pipeline\", \"filename\": filename}\n",
    "            )\n",
    "        )\n",
    "\n",
    "    client = LlamaStackClient(base_url=llamastack_base_url)\n",
    "    print(\"Registering db\")\n",
    "    client.vector_dbs.register(\n",
    "        vector_db_id=\"test\",\n",
    "        embedding_model=\"all-MiniLM-L6-v2\",\n",
    "        embedding_dimension=384,\n",
    "        provider_id=\"pgvector\",\n",
    "    )\n",
    "\n",
    "    try:\n",
    "        client.tool_runtime.rag_tool.insert(\n",
    "            documents=rag_documents,\n",
    "            vector_db_id=\"test\",\n",
    "            chunk_size_in_tokens=1000,\n",
    "        )\n",
    "    except Exception as e:\n",
    "        print(\"Embedding insert failed:\", e)\n",
    "\n",
    "\n",
    "@pipeline(name=\"fetch-and-store-pipeline\")\n",
    "def full_pipeline():\n",
    "    import os\n",
    "    \n",
    "    fetch_from_minio_store_pgvector(\n",
    "        bucket_name=\"llama\", \n",
    "        minio_endpoint=os.environ[\"MINIO_ENDPOINT\"], \n",
    "        minio_access_key=os.environ[\"MINIO_ACCESS_KEY\"], \n",
    "        minio_secret_key=os.environ[\"MINIO_SECRET_KEY\"],\n",
    "        llamastack_base_url=os.environ[\"LLAMASTACK_BASE_URL\"]\n",
    "    )\n",
    "\n",
    "# 1. Compile pipeline to a file\n",
    "pipeline_yaml = \"fetch_chunk_embed_pipeline.yaml\"\n",
    "compiler.Compiler().compile(\n",
    "    pipeline_func=full_pipeline,\n",
    "    package_path=pipeline_yaml\n",
    ")\n",
    "\n",
    "# 2. Connect to KFP\n",
    "client = Client(\n",
    "    host=\"https://ds-pipeline-dspa.llama-stack-rag-2.svc.cluster.local:8888\",\n",
    "    namespace=\"llama-stack-rag-2\",\n",
    "    verify_ssl=False\n",
    ")\n",
    "\n",
    "# 3. Upload pipeline\n",
    "uploaded_pipeline = client.upload_pipeline(\n",
    "    pipeline_package_path=pipeline_yaml,\n",
    "    pipeline_name=\"fetch-and-store-pipeline\"\n",
    ")\n",
    "\n",
    "# 4. Run the pipeline\n",
    "run = client.create_run_from_pipeline_package(\n",
    "    pipeline_file=pipeline_yaml,\n",
    "    arguments={},\n",
    "    run_name=\"fetch-store-run\"\n",
    ")\n",
    "\n",
    "print(f\"Pipeline submitted! Run ID: {run.run_id}\")\n"
   ]
  },
  {
   "cell_type": "code",
   "execution_count": null,
   "id": "4c5bd908-4d70-47ac-b1c4-606aaf806f46",
   "metadata": {},
   "outputs": [],
   "source": []
  }
 ],
 "metadata": {
  "kernelspec": {
   "display_name": "Python 3.11",
   "language": "python",
   "name": "python3"
  },
  "language_info": {
   "codemirror_mode": {
    "name": "ipython",
    "version": 3
   },
   "file_extension": ".py",
   "mimetype": "text/x-python",
   "name": "python",
   "nbconvert_exporter": "python",
   "pygments_lexer": "ipython3",
   "version": "3.11.9"
  }
 },
 "nbformat": 4,
 "nbformat_minor": 5
}
